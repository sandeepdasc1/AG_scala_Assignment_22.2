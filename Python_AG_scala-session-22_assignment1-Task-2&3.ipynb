{
 "cells": [
  {
   "cell_type": "markdown",
   "metadata": {},
   "source": [
    "# TASK-2"
   ]
  },
  {
   "cell_type": "code",
   "execution_count": 1,
   "metadata": {},
   "outputs": [
    {
     "data": {
      "text/plain": [
       "\u001b[36mlist\u001b[0m: List[java.lang.String] = \u001b[33mList\u001b[0m(\u001b[32m\"alpha\"\u001b[0m, \u001b[32m\"gamma\"\u001b[0m, \u001b[32m\"omega\"\u001b[0m, \u001b[32m\"zeta\"\u001b[0m, \u001b[32m\"beta\"\u001b[0m)"
      ]
     },
     "metadata": {},
     "output_type": "display_data"
    }
   ],
   "source": [
    "val list = List(\"alpha\", \"gamma\", \"omega\", \"zeta\", \"beta\")"
   ]
  },
  {
   "cell_type": "markdown",
   "metadata": {},
   "source": [
    "find count of all strings with length 4"
   ]
  },
  {
   "cell_type": "code",
   "execution_count": 5,
   "metadata": {},
   "outputs": [
    {
     "name": "stdout",
     "output_type": "stream",
     "text": [
      "Count of String with length 4 = 2\n"
     ]
    },
    {
     "data": {
      "text/plain": [
       "\u001b[36mout\u001b[0m: Int = \u001b[32m2\u001b[0m"
      ]
     },
     "metadata": {},
     "output_type": "display_data"
    }
   ],
   "source": [
    "val out = list.count(x => x.length == 4)\n",
    "println (s\"Count of String with length 4 = $out\")"
   ]
  },
  {
   "cell_type": "markdown",
   "metadata": {},
   "source": [
    "convert the list of string to a list of integers, where each string is mapped to its corresponding length"
   ]
  },
  {
   "cell_type": "code",
   "execution_count": 7,
   "metadata": {},
   "outputs": [
    {
     "data": {
      "text/plain": [
       "\u001b[36mres5\u001b[0m: List[(java.lang.String, Int)] = \u001b[33mList\u001b[0m(\n",
       "  \u001b[33m\u001b[0m(\u001b[32m\"alpha\"\u001b[0m, \u001b[32m5\u001b[0m),\n",
       "  \u001b[33m\u001b[0m(\u001b[32m\"gamma\"\u001b[0m, \u001b[32m5\u001b[0m),\n",
       "  \u001b[33m\u001b[0m(\u001b[32m\"omega\"\u001b[0m, \u001b[32m5\u001b[0m),\n",
       "  \u001b[33m\u001b[0m(\u001b[32m\"zeta\"\u001b[0m, \u001b[32m4\u001b[0m),\n",
       "  \u001b[33m\u001b[0m(\u001b[32m\"beta\"\u001b[0m, \u001b[32m4\u001b[0m)\n",
       ")"
      ]
     },
     "metadata": {},
     "output_type": "display_data"
    }
   ],
   "source": [
    "list.map(s => (s, s.length))"
   ]
  },
  {
   "cell_type": "markdown",
   "metadata": {},
   "source": [
    "find count of all strings which contain alphabet ‘m’"
   ]
  },
  {
   "cell_type": "code",
   "execution_count": 10,
   "metadata": {},
   "outputs": [
    {
     "name": "stdout",
     "output_type": "stream",
     "text": [
      "Count of String which contains alpabet 'm' = 2\r\n"
     ]
    },
    {
     "data": {
      "text/plain": [
       "\u001b[36mout1\u001b[0m: Int = \u001b[32m2\u001b[0m"
      ]
     },
     "metadata": {},
     "output_type": "display_data"
    }
   ],
   "source": [
    "val out1 = list.map(s => s.count(_ == 'm')).count(s => s != 0)\n",
    "println (s\"Count of String which contains alpabet 'm' = $out1\")"
   ]
  },
  {
   "cell_type": "code",
   "execution_count": null,
   "metadata": {},
   "outputs": [],
   "source": [
    "find the count of all strings which start with the alphabet ‘a’"
   ]
  },
  {
   "cell_type": "code",
   "execution_count": 12,
   "metadata": {},
   "outputs": [
    {
     "name": "stdout",
     "output_type": "stream",
     "text": [
      "Count of String which which starts with alpabet 'a' = 1\n"
     ]
    },
    {
     "data": {
      "text/plain": [
       "\u001b[36mout2\u001b[0m: Int = \u001b[32m1\u001b[0m"
      ]
     },
     "metadata": {},
     "output_type": "display_data"
    }
   ],
   "source": [
    "val out2 = list.map(s => s(0) == 'a').count(s => s == true)\n",
    "println (s\"Count of String which which starts with alpabet 'a' = $out2\")"
   ]
  },
  {
   "cell_type": "markdown",
   "metadata": {},
   "source": [
    "# TASK-3"
   ]
  },
  {
   "cell_type": "markdown",
   "metadata": {},
   "source": [
    "Create a Scala application to find the GCD of two numbers."
   ]
  },
  {
   "cell_type": "code",
   "execution_count": 18,
   "metadata": {},
   "outputs": [
    {
     "data": {
      "text/plain": [
       "defined \u001b[32mfunction \u001b[36mgcd\u001b[0m"
      ]
     },
     "metadata": {},
     "output_type": "display_data"
    }
   ],
   "source": [
    "// GCD function Definition\n",
    "def gcd(a: Int, b: Int): Int = b match {\n",
    "    case 0 => a\n",
    "    case n => gcd(b, a % b)   // tail recursion\n",
    "  }\n"
   ]
  },
  {
   "cell_type": "code",
   "execution_count": 19,
   "metadata": {},
   "outputs": [
    {
     "name": "stdout",
     "output_type": "stream",
     "text": [
      "gcd(21,17) is 1\r\n"
     ]
    },
    {
     "data": {
      "text/plain": []
     },
     "metadata": {},
     "output_type": "display_data"
    }
   ],
   "source": [
    "println(\"gcd(21,17) is \" + gcd(21,17))"
   ]
  }
 ],
 "metadata": {
  "kernelspec": {
   "display_name": "Scala 2.10",
   "language": "scala210",
   "name": "scala210"
  },
  "language_info": {
   "codemirror_mode": "text/x-scala",
   "file_extension": "scala",
   "mimetype": "text/x-scala",
   "name": "scala210",
   "pygments_lexer": "scala",
   "version": "2.10.5"
  }
 },
 "nbformat": 4,
 "nbformat_minor": 2
}
